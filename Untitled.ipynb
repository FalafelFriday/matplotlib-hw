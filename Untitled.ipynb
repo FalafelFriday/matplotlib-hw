{
 "cells": [
  {
   "cell_type": "code",
   "execution_count": null,
   "metadata": {},
   "outputs": [],
   "source": [
    "#First step import and read files\n",
    "\n",
    "import pandas as pd\n",
    "import numpy as np\n",
    "\n",
    "# File to Load (Remember to Change These)\n",
    "file_to_load = \"purchase_data.csv\"\n",
    "\n",
    "# Read Purchasing File and store into Pandas data frame\n",
    "df= pd.read_csv(file_to_load)\n",
    "df.dropna(how='any')"
   ]
  },
  {
   "cell_type": "code",
   "execution_count": null,
   "metadata": {},
   "outputs": [],
   "source": [
    "#get the total number of players\n",
    "tdf=len(df[\"SN\"].value_counts())\n",
    "tdf\n",
    "pcdf = pd.DataFrame({\"Total Players\":[tdf]})\n",
    "pcdf"
   ]
  },
  {
   "cell_type": "code",
   "execution_count": null,
   "metadata": {},
   "outputs": [],
   "source": [
    "#purchase analysis assign things to variables and put in dataframe\n",
    "\n",
    "unique_1=df['Item Name'].nunique()\n",
    "\n",
    "average=df['Price'].mean()\n",
    "#print(average)\n",
    "Total_revenue=df['Price'].sum()\n",
    "#print(Total_revenue)\n",
    "total_purchases=len(df['Purchase ID'])\n",
    "#print(total_purchases)\n",
    "paadf=pd.DataFrame({\"Unique Items\":[unique_1], \"Average purchase\":[average], \"Total revenue\":[Total_revenue], \"Total Purchases\":[total_purchases]})\n",
    "paadf['Average purchase']=paadf['Average purchase'].map(\"${:.2f}\".format)\n",
    "paadf['Total revenue']=paadf['Total revenue'].map(\"${:.2f}\".format)\n",
    "paadf"
   ]
  },
  {
   "cell_type": "code",
   "execution_count": null,
   "metadata": {},
   "outputs": [],
   "source": [
    "#gender analysis is the same as above\n",
    "\n",
    "dfc = df[\"SN\"].nunique()\n",
    "dfmc = df[df[\"Gender\"] == \"Male\"][\"SN\"].nunique()\n",
    "dffc = df[df[\"Gender\"] == \"Female\"][\"SN\"].nunique()\n",
    "dfoc = dfc - dfmc - dffc\n",
    "dmpc = ((dfmc/dfc)*100)\n",
    "dfpc = ((dffc/dfc)*100)\n",
    "dopc = ((dfoc/dfc)*100)\n",
    "gdf=pd.DataFrame({\"Gender\": [\"Male\", \"Female\", \"Other\"],\"Numbers\":[dfmc,dffc,dfoc],\"Percentages\":[dmpc,dfpc,dopc]})\n",
    "gdf[\"Percentages\"]=gdf[\"Percentages\"].map(\"{:.2f}%\".format)\n",
    "gdf"
   ]
  },
  {
   "cell_type": "code",
   "execution_count": null,
   "metadata": {},
   "outputs": [],
   "source": [
    "adf=df\n",
    "gadf=adf.groupby(['Gender'])\n",
    "#I had to add this because i didnt want to remake all the variables again and then make a list in the df so i just made a variable hold the list\n",
    "dftc=[dffc,dfmc,dfoc]\n",
    "gaadf=pd.DataFrame({\"Purchase Count\":gadf['Price'].count(),\"Average Purchase\":gadf[\"Price\"].mean(),\"Total Amount\":gadf['Price'].sum(),\"Total Average Purchases\":gadf['Price'].sum()/dftc})\n",
    "\n",
    "gaadf[\"Average Purchase\"]=gaadf[\"Average Purchase\"].map(\"${:.2f}\".format)\n",
    "gaadf[\"Total Amount\"]=gaadf[\"Total Amount\"].map(\"${:.2f}\".format)\n",
    "gaadf[\"Total Average Purchases\"]=gaadf[\"Total Average Purchases\"].map(\"${:.2f}\".format)\n",
    "\n",
    "gaadf"
   ]
  },
  {
   "cell_type": "code",
   "execution_count": null,
   "metadata": {},
   "outputs": [],
   "source": [
    "#this is the bins part of the age group\n",
    "qdf=df\n",
    "#MAX=qdf[\"Age\"].max()\n",
    "#MIN=qdf[\"Age\"].min()\n",
    "#print(MAX)\n",
    "#print(MIN)\n",
    "bins= [0,9,14,19,24,29,34,39,50]\n",
    "labels=[\"<10\",\"10-14\",\"15-19\",\"20-24\",\"25-29\",\"30-34\",\"35-39\",\"40+\"]\n",
    "qdf[\"Age Group\"]=pd.cut(qdf[\"Age\"],bins,labels=labels)\n"
   ]
  },
  {
   "cell_type": "code",
   "execution_count": null,
   "metadata": {},
   "outputs": [],
   "source": [
    "#this is the variable part\n",
    "yyydf=qdf.groupby('Age Group')\n",
    "counts=yyydf['SN'].nunique()\n",
    "percent=(counts/tdf)*100\n",
    "counts\n",
    "percent\n",
    "agedmf=pd.DataFrame({\"Total Counts\":counts,\"Percentage of Players\":percent})\n",
    "agedmf[\"Percentage of Players\"]=agedmf[\"Percentage of Players\"].map(\"{:.2f}%\".format)\n",
    "agedmf"
   ]
  },
  {
   "cell_type": "code",
   "execution_count": null,
   "metadata": {},
   "outputs": [],
   "source": [
    "#this is the dataframe part\n",
    "pca=yyydf[\"Purchase ID\"].count()\n",
    "dma=yyydf[\"Price\"].mean()\n",
    "dmt=yyydf[\"Price\"].sum()\n",
    "dmz=dmt/counts\n",
    "aggdf=pd.DataFrame({\"Purchase Count\":pca,\"Average Purchase Price\":dma,\"Total Purchases\":dmt,\"Average purchase per person\":dmz})\n",
    "aggdf[\"Average Purchase Price\"]=aggdf[\"Average Purchase Price\"].map(\"${:,.2f}\".format)\n",
    "aggdf[\"Total Purchases\"]=aggdf[\"Total Purchases\"].map(\"${:.2f}\".format)\n",
    "aggdf[\"Average purchase per person\"]=aggdf[\"Average purchase per person\"].map(\"${:.2f}\".format)\n",
    "aggdf"
   ]
  },
  {
   "cell_type": "code",
   "execution_count": null,
   "metadata": {},
   "outputs": [],
   "source": [
    "#the top spenders all in one cell\n",
    "kdf=df.groupby(\"SN\")\n",
    "fwr=kdf[\"SN\"].count()\n",
    "fqr=kdf[\"Price\"].sum()\n",
    "fav=fqr/fwr\n",
    "polkadf=pd.DataFrame({\"Purchase Count\":fwr, \"Average Purchase price\":fav, \"Total purchase value\":fqr})\n",
    "chsdf=polkadf.sort_values(by=\"Total purchase value\",ascending=False)\n",
    "chsdf[\"Average Purchase price\"]=chsdf[\"Average Purchase price\"].map(\"${:.2f}\".format)\n",
    "chsdf[\"Total purchase value\"]=chsdf[\"Total purchase value\"].map(\"${:.2f}\".format)\n",
    "chsdf.head()\n"
   ]
  },
  {
   "cell_type": "code",
   "execution_count": null,
   "metadata": {},
   "outputs": [],
   "source": [
    "#Most profitable items \n",
    "xxx=wldrf.sort_values(by='Total purchase value', ascending=False)\n",
    "xxx['Total purchase value']=xxx['Total purchase value'].map(\"${:.2f}\".format)\n",
    "xxx.head()"
   ]
  }
 ],
 "metadata": {
  "kernelspec": {
   "display_name": "Python 3",
   "language": "python",
   "name": "python3"
  },
  "language_info": {
   "codemirror_mode": {
    "name": "ipython",
    "version": 3
   },
   "file_extension": ".py",
   "mimetype": "text/x-python",
   "name": "python",
   "nbconvert_exporter": "python",
   "pygments_lexer": "ipython3",
   "version": "3.7.3"
  }
 },
 "nbformat": 4,
 "nbformat_minor": 2
}
